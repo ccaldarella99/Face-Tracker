{
 "cells": [
  {
   "cell_type": "markdown",
   "id": "adopted-rehabilitation",
   "metadata": {},
   "source": [
    "# Installing OpenCV on the Raspberry Pi OS (Buster)\n",
    "\n",
    "source: https://www.pyimagesearch.com/2019/09/16/install-opencv-4-on-raspberry-pi-4-and-raspbian-buster/"
   ]
  },
  {
   "cell_type": "code",
   "execution_count": null,
   "id": "scenic-madness",
   "metadata": {},
   "outputs": [],
   "source": [
    "# Like any and all Linux installations, Update/Upgrade\n",
    "!sudo apt-get update && sudo apt-get upgrade"
   ]
  },
  {
   "cell_type": "markdown",
   "id": "coordinated-pantyhose",
   "metadata": {},
   "source": [
    "### Install a mess of dependencies/packages"
   ]
  },
  {
   "cell_type": "code",
   "execution_count": null,
   "id": "prepared-apollo",
   "metadata": {},
   "outputs": [],
   "source": [
    "!sudo apt-get install build-essential cmake pkg-config\n",
    "!sudo apt-get install libjpeg-dev libtiff5-dev libjasper-dev libpng-dev\n",
    "!sudo apt-get install libavcodec-dev libavformat-dev libswscale-dev libv4l-dev\n",
    "!sudo apt-get install libxvidcore-dev libx264-dev\n",
    "!sudo apt-get install libfontconfig1-dev libcairo2-dev\n",
    "!sudo apt-get install libgdk-pixbuf2.0-dev libpango1.0-dev\n",
    "!sudo apt-get install libgtk2.0-dev libgtk-3-dev\n",
    "!sudo apt-get install libatlas-base-dev gfortran\n",
    "!sudo apt-get install libhdf5-dev libhdf5-serial-dev libhdf5-103\n",
    "!sudo apt-get install libqtgui4 libqtwebkit4 libqt4-test python3-pyqt5\n",
    "!sudo apt-get install python3-dev"
   ]
  },
  {
   "cell_type": "markdown",
   "id": "needed-liverpool",
   "metadata": {},
   "source": [
    "### Make sure pip and Virtual Environment are installed.\n",
    "Create your virtual environment; make sure numpy is installed."
   ]
  },
  {
   "cell_type": "code",
   "execution_count": null,
   "id": "moderate-italic",
   "metadata": {},
   "outputs": [],
   "source": [
    "!pip install \"picamera[array]\" # if it has not already been installed"
   ]
  },
  {
   "cell_type": "markdown",
   "id": "alive-cambodia",
   "metadata": {},
   "source": [
    "## Install OpenCV!"
   ]
  },
  {
   "cell_type": "code",
   "execution_count": null,
   "id": "single-receiver",
   "metadata": {},
   "outputs": [],
   "source": [
    "!pip install opencv-contrib-python==4.5.2.52"
   ]
  },
  {
   "cell_type": "markdown",
   "id": "active-mattress",
   "metadata": {},
   "source": [
    "It is worth noting that the tutorial shows another way to install OpenCV using CMake.\n",
    "I was able to run the compiler, but I had issues where the Python version was set to 2.7 instead of 3.6 or 3.7.\n",
    "I eventually got the compiler to show the proper Python version, but then the \"Python (for build)\" line was missing.\n",
    "\n",
    "I was not sure whether this would adversely affect the installation, so I opted to use the pip installer instead."
   ]
  }
 ],
 "metadata": {
  "kernelspec": {
   "display_name": "Python 3",
   "language": "python",
   "name": "python3"
  },
  "language_info": {
   "codemirror_mode": {
    "name": "ipython",
    "version": 3
   },
   "file_extension": ".py",
   "mimetype": "text/x-python",
   "name": "python",
   "nbconvert_exporter": "python",
   "pygments_lexer": "ipython3",
   "version": "3.8.5"
  }
 },
 "nbformat": 4,
 "nbformat_minor": 5
}
