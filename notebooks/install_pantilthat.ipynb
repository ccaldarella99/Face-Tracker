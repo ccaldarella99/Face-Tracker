{
 "cells": [
  {
   "cell_type": "markdown",
   "id": "measured-buddy",
   "metadata": {},
   "source": [
    "# Install pantilthat\n",
    "\n",
    "Source: https://github.com/pimoroni/pantilt-hat"
   ]
  },
  {
   "cell_type": "markdown",
   "id": "original-marine",
   "metadata": {},
   "source": [
    "#### Get and install the pantilthat software\n",
    "\n",
    "Although it may be a frowned upon practice to some to run code such as the following, but there seeems to be a mixed opinion about this. \n",
    "\n",
    "I reviewed the code by removing the pipe command and it looked ok, so I went ahead and ran this code with no immediate repercussion."
   ]
  },
  {
   "cell_type": "code",
   "execution_count": null,
   "id": "understood-headquarters",
   "metadata": {},
   "outputs": [],
   "source": [
    "!curl https://get.pimoroni.com/pantilthat | bash"
   ]
  },
  {
   "cell_type": "markdown",
   "id": "recent-institute",
   "metadata": {},
   "source": [
    "#### Pimoroni says you can install with this command instead if you do not like the command above."
   ]
  },
  {
   "cell_type": "code",
   "execution_count": null,
   "id": "happy-booking",
   "metadata": {},
   "outputs": [],
   "source": [
    "!sudo apt-get install python3-pantilthat"
   ]
  },
  {
   "cell_type": "markdown",
   "id": "indie-narrow",
   "metadata": {},
   "source": [
    "#### And you can run this command for the latest updates:"
   ]
  },
  {
   "cell_type": "code",
   "execution_count": null,
   "id": "needed-shark",
   "metadata": {},
   "outputs": [],
   "source": [
    "!sudo python setup.py install"
   ]
  },
  {
   "cell_type": "markdown",
   "id": "critical-height",
   "metadata": {},
   "source": [
    "#### The following code installs the Pimoroni Dashboard. \n",
    "\n",
    "### I DO NOT RECOMMEND INSTALLING THIS\n",
    "\n",
    "I believe this software gave me issues with calling the pantilthat library so I ended up uninstalling it. \n",
    "\n",
    "#### Use at your own risk."
   ]
  },
  {
   "cell_type": "code",
   "execution_count": null,
   "id": "computational-evans",
   "metadata": {},
   "outputs": [],
   "source": [
    "# !sudo apt-get install pimoroni"
   ]
  },
  {
   "cell_type": "markdown",
   "id": "steady-vertex",
   "metadata": {},
   "source": [
    "# Get the PanTiltFaceTracker repository\n",
    "\n",
    "Source: https://github.com/pimoroni/PanTiltFacetracker\n",
    "\n",
    "Source: https://learn.pimoroni.com/tutorial/electromechanical/building-a-pan-tilt-face-tracker"
   ]
  },
  {
   "cell_type": "markdown",
   "id": "respiratory-heating",
   "metadata": {},
   "source": [
    "#### Make sure these OpenCV Libraries for Python are up to date:"
   ]
  },
  {
   "cell_type": "code",
   "execution_count": null,
   "id": "hawaiian-headset",
   "metadata": {},
   "outputs": [],
   "source": [
    "!sudo apt-get install python-opencv python3-opencv opencv-data"
   ]
  },
  {
   "cell_type": "markdown",
   "id": "utility-therapy",
   "metadata": {},
   "source": [
    "#### Pimoroni says to run this line of code:"
   ]
  },
  {
   "cell_type": "code",
   "execution_count": null,
   "id": "elegant-cloud",
   "metadata": {},
   "outputs": [],
   "source": [
    "!curl https://get.pimoroni.com/uptodate | bash"
   ]
  },
  {
   "cell_type": "markdown",
   "id": "nuclear-influence",
   "metadata": {},
   "source": [
    "#### But I prefer just to run the standard update/upgrade command like so:"
   ]
  },
  {
   "cell_type": "code",
   "execution_count": null,
   "id": "senior-incentive",
   "metadata": {},
   "outputs": [],
   "source": [
    "sudo apt-get update && sudo apt-get upgrade"
   ]
  },
  {
   "cell_type": "markdown",
   "id": "gross-accuracy",
   "metadata": {},
   "source": [
    "#### Install python-smbus"
   ]
  },
  {
   "cell_type": "code",
   "execution_count": null,
   "id": "every-mongolia",
   "metadata": {},
   "outputs": [],
   "source": [
    "!sudo apt-get install python-smbus"
   ]
  },
  {
   "cell_type": "markdown",
   "id": "smoking-scroll",
   "metadata": {},
   "source": [
    "#### Install imutils and picamera[array] (if you have not already)"
   ]
  },
  {
   "cell_type": "code",
   "execution_count": null,
   "id": "incorrect-score",
   "metadata": {},
   "outputs": [],
   "source": [
    "!pip install imutils\n",
    "!pip install \"picamera[array]\""
   ]
  },
  {
   "cell_type": "markdown",
   "id": "median-hudson",
   "metadata": {},
   "source": [
    "#### And clone the repository locally"
   ]
  },
  {
   "cell_type": "code",
   "execution_count": null,
   "id": "bearing-snapshot",
   "metadata": {},
   "outputs": [],
   "source": [
    "!git clone https://github.com/pimoroni/PanTiltFacetracker.git"
   ]
  }
 ],
 "metadata": {
  "kernelspec": {
   "display_name": "Python 3",
   "language": "python",
   "name": "python3"
  },
  "language_info": {
   "codemirror_mode": {
    "name": "ipython",
    "version": 3
   },
   "file_extension": ".py",
   "mimetype": "text/x-python",
   "name": "python",
   "nbconvert_exporter": "python",
   "pygments_lexer": "ipython3",
   "version": "3.8.5"
  }
 },
 "nbformat": 4,
 "nbformat_minor": 5
}
