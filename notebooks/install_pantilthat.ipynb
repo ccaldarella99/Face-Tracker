{
 "cells": [
  {
   "cell_type": "markdown",
   "id": "rubber-retreat",
   "metadata": {},
   "source": [
    "# Install pantilthat\n",
    "\n",
    "Source: https://github.com/pimoroni/pantilt-hat"
   ]
  },
  {
   "cell_type": "markdown",
   "id": "short-stevens",
   "metadata": {},
   "source": [
    "#### Get and install the pantilthat software\n",
    "\n",
    "Although it may be a frowned upon practice to some to run code such as the following, but there seeems to be a mixed opinion about this. \n",
    "\n",
    "I reviewed the code by removing the pipe command and it looked ok, so I went ahead and ran this code with no immediate repercussion."
   ]
  },
  {
   "cell_type": "code",
   "execution_count": null,
   "id": "immune-religious",
   "metadata": {},
   "outputs": [],
   "source": [
    "!curl https://get.pimoroni.com/pantilthat | bash"
   ]
  },
  {
   "cell_type": "markdown",
   "id": "loose-marks",
   "metadata": {},
   "source": [
    "#### Pimoroni says you can install with this command instead if you do not like the command above."
   ]
  },
  {
   "cell_type": "code",
   "execution_count": null,
   "id": "consistent-parallel",
   "metadata": {},
   "outputs": [],
   "source": [
    "!sudo apt-get install python3-pantilthat"
   ]
  },
  {
   "cell_type": "markdown",
   "id": "fleet-emergency",
   "metadata": {},
   "source": [
    "#### And you can run this command for the latest updates:"
   ]
  },
  {
   "cell_type": "code",
   "execution_count": null,
   "id": "successful-merchandise",
   "metadata": {},
   "outputs": [],
   "source": [
    "!sudo python setup.py install"
   ]
  },
  {
   "cell_type": "markdown",
   "id": "facial-canyon",
   "metadata": {},
   "source": [
    "#### The following code installs the Pimoroni Dashboard. \n",
    "\n",
    "### I DO NOT RECOMMEND INSTALLING THIS\n",
    "\n",
    "I believe this software gave me issues with calling the pantilthat library so I ended up uninstalling it. \n",
    "\n",
    "#### Use at your own risk."
   ]
  },
  {
   "cell_type": "code",
   "execution_count": null,
   "id": "steady-ordering",
   "metadata": {},
   "outputs": [],
   "source": [
    "# !sudo apt-get install pimoroni"
   ]
  },
  {
   "cell_type": "markdown",
   "id": "operating-determination",
   "metadata": {},
   "source": [
    "# Get the PanTiltFaceTracker repository\n",
    "\n",
    "Source: https://github.com/pimoroni/PanTiltFacetracker\n",
    "\n",
    "Source: https://learn.pimoroni.com/tutorial/electromechanical/building-a-pan-tilt-face-tracker"
   ]
  },
  {
   "cell_type": "markdown",
   "id": "fifteen-fleet",
   "metadata": {},
   "source": [
    "#### Make sure these OpenCV Libraries for Python are up to date:"
   ]
  },
  {
   "cell_type": "code",
   "execution_count": null,
   "id": "hidden-panama",
   "metadata": {},
   "outputs": [],
   "source": [
    "!sudo apt-get install python-opencv python3-opencv opencv-data"
   ]
  },
  {
   "cell_type": "markdown",
   "id": "military-kernel",
   "metadata": {},
   "source": [
    "#### Pimoroni says to run this line of code:"
   ]
  },
  {
   "cell_type": "code",
   "execution_count": null,
   "id": "increasing-flexibility",
   "metadata": {},
   "outputs": [],
   "source": [
    "!curl https://get.pimoroni.com/uptodate | bash"
   ]
  },
  {
   "cell_type": "markdown",
   "id": "sufficient-round",
   "metadata": {},
   "source": [
    "#### But I felt safer just running my standard update/upgrade like so:"
   ]
  },
  {
   "cell_type": "code",
   "execution_count": null,
   "id": "portuguese-companion",
   "metadata": {},
   "outputs": [],
   "source": [
    "sudo apt-get update && sudo apt-get upgrade"
   ]
  },
  {
   "cell_type": "markdown",
   "id": "controversial-edgar",
   "metadata": {},
   "source": [
    "#### Install python-smbus and imutils"
   ]
  },
  {
   "cell_type": "code",
   "execution_count": null,
   "id": "grand-bosnia",
   "metadata": {},
   "outputs": [],
   "source": [
    "!sudo apt-get install python-smbus\n",
    "!pip install imutils"
   ]
  },
  {
   "cell_type": "markdown",
   "id": "thick-mumbai",
   "metadata": {},
   "source": [
    "#### Install picamera[array] (if you have not already)"
   ]
  },
  {
   "cell_type": "code",
   "execution_count": null,
   "id": "violent-morris",
   "metadata": {},
   "outputs": [],
   "source": [
    "!pip install \"picamera[array]\""
   ]
  },
  {
   "cell_type": "markdown",
   "id": "binding-estonia",
   "metadata": {},
   "source": [
    "#### And clone the repository locally"
   ]
  },
  {
   "cell_type": "code",
   "execution_count": null,
   "id": "patient-anderson",
   "metadata": {},
   "outputs": [],
   "source": [
    "!git clone https://github.com/pimoroni/PanTiltFacetracker.git"
   ]
  }
 ],
 "metadata": {
  "kernelspec": {
   "display_name": "Python 3",
   "language": "python",
   "name": "python3"
  },
  "language_info": {
   "codemirror_mode": {
    "name": "ipython",
    "version": 3
   },
   "file_extension": ".py",
   "mimetype": "text/x-python",
   "name": "python",
   "nbconvert_exporter": "python",
   "pygments_lexer": "ipython3",
   "version": "3.8.5"
  }
 },
 "nbformat": 4,
 "nbformat_minor": 5
}
