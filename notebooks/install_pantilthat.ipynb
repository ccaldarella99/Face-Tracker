{
 "cells": [
  {
   "cell_type": "markdown",
   "id": "utility-engineering",
   "metadata": {},
   "source": [
    "# Install pantilthat\n",
    "\n",
    "Source: https://github.com/pimoroni/pantilt-hat"
   ]
  },
  {
   "cell_type": "markdown",
   "id": "affected-parker",
   "metadata": {},
   "source": [
    "#### Get and install the pantilthat software\n",
    "\n",
    "Although it may be a frowned upon practice to some to run code such as the following, but there seeems to be a mixed opinion about this. \n",
    "\n",
    "I reviewed the code by removing the pipe command and it looked ok, so I went ahead and ran this code with no immediate repercussion."
   ]
  },
  {
   "cell_type": "code",
   "execution_count": null,
   "id": "funded-wheat",
   "metadata": {},
   "outputs": [],
   "source": [
    "!curl https://get.pimoroni.com/pantilthat | bash"
   ]
  },
  {
   "cell_type": "markdown",
   "id": "pretty-narrative",
   "metadata": {},
   "source": [
    "#### Pimoroni says you can install with this command instead if you do not like the command above."
   ]
  },
  {
   "cell_type": "code",
   "execution_count": null,
   "id": "resistant-taylor",
   "metadata": {},
   "outputs": [],
   "source": [
    "!sudo apt-get install python3-pantilthat"
   ]
  },
  {
   "cell_type": "markdown",
   "id": "muslim-boring",
   "metadata": {},
   "source": [
    "#### And you can run this command for the latest updates:"
   ]
  },
  {
   "cell_type": "code",
   "execution_count": null,
   "id": "frank-martial",
   "metadata": {},
   "outputs": [],
   "source": [
    "!sudo python setup.py install"
   ]
  },
  {
   "cell_type": "markdown",
   "id": "induced-blackberry",
   "metadata": {},
   "source": [
    "#### The following code installs the Pimoroni Dashboard. \n",
    "\n",
    "### I DO NOT RECOMMEND INSTALLING THIS\n",
    "\n",
    "I believe this software gave me issues with calling the pantilthat library so I ended up uninstalling it. \n",
    "\n",
    "#### Use at your own risk."
   ]
  },
  {
   "cell_type": "code",
   "execution_count": null,
   "id": "lined-convergence",
   "metadata": {},
   "outputs": [],
   "source": [
    "# !sudo apt-get install pimoroni"
   ]
  },
  {
   "cell_type": "markdown",
   "id": "polar-istanbul",
   "metadata": {},
   "source": [
    "# Get the PanTiltFaceTracker repository\n",
    "\n",
    "Source: https://github.com/pimoroni/PanTiltFacetracker\n",
    "\n",
    "Source: https://learn.pimoroni.com/tutorial/electromechanical/building-a-pan-tilt-face-tracker"
   ]
  },
  {
   "cell_type": "markdown",
   "id": "threatened-found",
   "metadata": {},
   "source": [
    "#### Make sure these OpenCV Libraries for Python are up to date:"
   ]
  },
  {
   "cell_type": "code",
   "execution_count": null,
   "id": "southwest-corruption",
   "metadata": {},
   "outputs": [],
   "source": [
    "!sudo apt-get install python-opencv python3-opencv opencv-data"
   ]
  },
  {
   "cell_type": "markdown",
   "id": "aggressive-commitment",
   "metadata": {},
   "source": [
    "#### Pimoroni says to run this line of code:"
   ]
  },
  {
   "cell_type": "code",
   "execution_count": null,
   "id": "returning-advertising",
   "metadata": {},
   "outputs": [],
   "source": [
    "!curl https://get.pimoroni.com/uptodate | bash"
   ]
  },
  {
   "cell_type": "markdown",
   "id": "checked-roman",
   "metadata": {},
   "source": [
    "#### But I felt safer just running my standard update/upgrade like so:"
   ]
  },
  {
   "cell_type": "code",
   "execution_count": null,
   "id": "blind-thickness",
   "metadata": {},
   "outputs": [],
   "source": [
    "sudo apt-get update && sudo apt-get upgrade"
   ]
  },
  {
   "cell_type": "markdown",
   "id": "american-paint",
   "metadata": {},
   "source": [
    "#### Install python-smbus"
   ]
  },
  {
   "cell_type": "code",
   "execution_count": null,
   "id": "included-permission",
   "metadata": {},
   "outputs": [],
   "source": [
    "!sudo apt-get install python-smbus"
   ]
  },
  {
   "cell_type": "markdown",
   "id": "noticed-affair",
   "metadata": {},
   "source": [
    "#### And clone the repository locally"
   ]
  },
  {
   "cell_type": "code",
   "execution_count": null,
   "id": "occupational-schema",
   "metadata": {},
   "outputs": [],
   "source": [
    "!git clone https://github.com/pimoroni/PanTiltFacetracker.git"
   ]
  }
 ],
 "metadata": {
  "kernelspec": {
   "display_name": "Python 3",
   "language": "python",
   "name": "python3"
  },
  "language_info": {
   "codemirror_mode": {
    "name": "ipython",
    "version": 3
   },
   "file_extension": ".py",
   "mimetype": "text/x-python",
   "name": "python",
   "nbconvert_exporter": "python",
   "pygments_lexer": "ipython3",
   "version": "3.8.5"
  }
 },
 "nbformat": 4,
 "nbformat_minor": 5
}
