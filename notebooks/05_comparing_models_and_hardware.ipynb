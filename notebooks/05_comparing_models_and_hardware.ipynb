{
 "cells": [
  {
   "cell_type": "markdown",
   "id": "occasional-content",
   "metadata": {},
   "source": [
    "# Comparing Models and Hardware\n",
    "\n",
    "Let's compare how the three Models I used compare in Frames per second (which is simply the inverse of the render-time).\n",
    "\n",
    "---\n",
    "\n",
    "I have collected Image rendering times from each Model while running Video Capture. This information is then put into a Pandas Data Frame and exported to a .CSV file upon application termination.\n",
    "\n",
    "This data has been collected from running on both the Raspberry Pi as well as my Windows Laptop.\n",
    "\n",
    "---\n",
    "\n",
    "A quick comparison of the Hardware differences between the two devices shows that the Laptop will outperform the Raspberry Pi (just based on the RAM and CPU alone):\n",
    "\n",
    "| Features    | Raspberry Pi             | Dell Laptop             |\n",
    "| ----------- | ------------------------ | ----------------------- |\n",
    "| HW Model    | Pi 4B                    | XPS 15 - 9500           |\n",
    "| OS          | Raspberry Pi OS (Buster) | Windows 10 Pro (64-bit) |\n",
    "| OS bit      | 32                       | 64                      |\n",
    "| CPU (Hz)    | 1.5-GHz                  | up to 5.0 GHz           |\n",
    "| CPU cores   | 4 cores                  | 6 cores                 |\n",
    "| CPU bit     | 64                       | 64                      |\n",
    "| CPU (descr) | 1.5-GHz, Quad-Core Broadcom BCM2711 (Cortex A-72) | 10th Generation Intel(R) Core(TM) i7-10750H (12MB Cache, up to 5.0 GHz, 6 cores)  |\n",
    "| GPU         | N/A                      | NVIDIA(R) GeForce(R) GTX 1650 Ti 4GB GDDR6 |\n",
    "| Storage     | 32GB microSD card        | 1TB SSD                 |\n",
    "| RAM         | 8GB (LPDDR4)             | 32 GB (2x16GB-DDR4)     |\n"
   ]
  },
  {
   "cell_type": "code",
   "execution_count": 2,
   "id": "dental-doctor",
   "metadata": {},
   "outputs": [],
   "source": [
    "import pandas as pd\n",
    "import numpy as np"
   ]
  },
  {
   "cell_type": "code",
   "execution_count": 16,
   "id": "classical-evidence",
   "metadata": {},
   "outputs": [],
   "source": [
    "win_read = '../output/win_output/20210613_150214_stats.csv'\n",
    "rpi_read = '../output/rpi_output/20210613_120136_stats.csv'\n",
    "\n",
    "win = pd.read_csv(win_read).drop(columns=['Unnamed: 0'])\n",
    "rpi = pd.read_csv(rpi_read).drop(columns=['Unnamed: 0'])"
   ]
  },
  {
   "cell_type": "code",
   "execution_count": 36,
   "id": "afraid-hormone",
   "metadata": {},
   "outputs": [],
   "source": [
    "win['Device'] = 'Laptop'\n",
    "rpi['Device'] = 'Ras-Pi'"
   ]
  },
  {
   "cell_type": "code",
   "execution_count": 42,
   "id": "bottom-caution",
   "metadata": {},
   "outputs": [],
   "source": [
    "stats = pd.concat([win, rpi], axis=0, ignore_index=True)"
   ]
  },
  {
   "cell_type": "code",
   "execution_count": 43,
   "id": "rural-baptist",
   "metadata": {},
   "outputs": [
    {
     "data": {
      "text/html": [
       "<div>\n",
       "<style scoped>\n",
       "    .dataframe tbody tr th:only-of-type {\n",
       "        vertical-align: middle;\n",
       "    }\n",
       "\n",
       "    .dataframe tbody tr th {\n",
       "        vertical-align: top;\n",
       "    }\n",
       "\n",
       "    .dataframe thead th {\n",
       "        text-align: right;\n",
       "    }\n",
       "</style>\n",
       "<table border=\"1\" class=\"dataframe\">\n",
       "  <thead>\n",
       "    <tr style=\"text-align: right;\">\n",
       "      <th></th>\n",
       "      <th></th>\n",
       "      <th>FPS</th>\n",
       "      <th>time</th>\n",
       "    </tr>\n",
       "    <tr>\n",
       "      <th>Device</th>\n",
       "      <th>Model</th>\n",
       "      <th></th>\n",
       "      <th></th>\n",
       "    </tr>\n",
       "  </thead>\n",
       "  <tbody>\n",
       "    <tr>\n",
       "      <th rowspan=\"3\" valign=\"top\">Laptop</th>\n",
       "      <th>Haar Cascade</th>\n",
       "      <td>43.831705</td>\n",
       "      <td>0.027543</td>\n",
       "    </tr>\n",
       "    <tr>\n",
       "      <th>YOLO-Body</th>\n",
       "      <td>23.610659</td>\n",
       "      <td>0.047073</td>\n",
       "    </tr>\n",
       "    <tr>\n",
       "      <th>YOLO-Face</th>\n",
       "      <td>26.130075</td>\n",
       "      <td>0.041805</td>\n",
       "    </tr>\n",
       "    <tr>\n",
       "      <th rowspan=\"3\" valign=\"top\">Ras-Pi</th>\n",
       "      <th>Haar Cascade</th>\n",
       "      <td>7.896255</td>\n",
       "      <td>0.128951</td>\n",
       "    </tr>\n",
       "    <tr>\n",
       "      <th>YOLO-Body</th>\n",
       "      <td>1.530603</td>\n",
       "      <td>0.654779</td>\n",
       "    </tr>\n",
       "    <tr>\n",
       "      <th>YOLO-Face</th>\n",
       "      <td>1.539430</td>\n",
       "      <td>0.651276</td>\n",
       "    </tr>\n",
       "  </tbody>\n",
       "</table>\n",
       "</div>"
      ],
      "text/plain": [
       "                           FPS      time\n",
       "Device Model                            \n",
       "Laptop Haar Cascade  43.831705  0.027543\n",
       "       YOLO-Body     23.610659  0.047073\n",
       "       YOLO-Face     26.130075  0.041805\n",
       "Ras-Pi Haar Cascade   7.896255  0.128951\n",
       "       YOLO-Body      1.530603  0.654779\n",
       "       YOLO-Face      1.539430  0.651276"
      ]
     },
     "execution_count": 43,
     "metadata": {},
     "output_type": "execute_result"
    }
   ],
   "source": [
    "stats.groupby(['Device', 'Model']).mean()"
   ]
  },
  {
   "cell_type": "markdown",
   "id": "hollywood-macedonia",
   "metadata": {},
   "source": [
    "###### It is worth noting that the YOLO models have less entries in the Data Frame. This is because each of the models ran about the same amount of time and the YOLO models took longer to render."
   ]
  },
  {
   "cell_type": "markdown",
   "id": "instrumental-kuwait",
   "metadata": {},
   "source": [
    "# Conclusion about Hardware\n",
    "\n",
    "It is easy to see what an extra two CPU cores and four times the memory can do to process facial recognition and image rendering. The laptop is able to process both the YOLO and Haar Cascade Models much faster so the rendered image appears in realtime. But until I can get a pan-tilt mechanism for my laptop, I will likely stick with Haar Cascades on my Raspberry Pi.\n",
    "\n",
    "It is worth noting that the Raspberry Pi is limited by utilizing its 32-bit Operating System. I am currently still trying to run a 64-bit OS on the Raspberry Pi, like Ubuntu, on another microSD card. I am hoping that a 64-bit OS will improve performance, and maybe even make it possible to utilize the Intel Neural Compute stick 2 to improve the compute time of using the YOLO Models.\n",
    "\n"
   ]
  }
 ],
 "metadata": {
  "kernelspec": {
   "display_name": "Python 3",
   "language": "python",
   "name": "python3"
  },
  "language_info": {
   "codemirror_mode": {
    "name": "ipython",
    "version": 3
   },
   "file_extension": ".py",
   "mimetype": "text/x-python",
   "name": "python",
   "nbconvert_exporter": "python",
   "pygments_lexer": "ipython3",
   "version": "3.8.5"
  }
 },
 "nbformat": 4,
 "nbformat_minor": 5
}
