{
 "cells": [
  {
   "cell_type": "markdown",
   "id": "coated-longer",
   "metadata": {
    "id": "therapeutic-registrar"
   },
   "source": [
    "# TRAIN CNN\n",
    "## Baby- Not Baby"
   ]
  },
  {
   "cell_type": "code",
   "execution_count": 1,
   "id": "adapted-problem",
   "metadata": {
    "id": "veterinary-financing"
   },
   "outputs": [],
   "source": [
    "# LOCAL PATHS\n",
    "img_path = '../scratch/images/ne_aclab/'\n"
   ]
  },
  {
   "cell_type": "code",
   "execution_count": 2,
   "id": "proper-province",
   "metadata": {
    "id": "lp-p6fOPFRU-"
   },
   "outputs": [],
   "source": [
    "train_path = img_path + 'train/'\n",
    "test_path = img_path + 'validate/'"
   ]
  },
  {
   "cell_type": "code",
   "execution_count": 3,
   "id": "hybrid-import",
   "metadata": {},
   "outputs": [],
   "source": [
    "### SET MODEL TO RUN HERE!! ###\n",
    "\n",
    "run_model = 3\n",
    "\n",
    "### SET MODEL TO RUN HERE!! ###"
   ]
  },
  {
   "cell_type": "code",
   "execution_count": 4,
   "id": "creative-blanket",
   "metadata": {
    "id": "administrative-prescription"
   },
   "outputs": [],
   "source": [
    "import os\n",
    "\n",
    "import keras\n",
    "from keras.layers import Dense, Flatten\n",
    "from keras.models import Sequential\n",
    "from keras.utils import to_categorical\n",
    "\n",
    "from keras.preprocessing.image import ImageDataGenerator\n",
    "from keras.layers import Conv2D, MaxPool2D, Dropout\n",
    "from keras.applications import MobileNetV2, VGG16, InceptionV3, Xception, ResNet50\n",
    "from keras.callbacks import EarlyStopping\n",
    "\n",
    "from keras.layers import GlobalAveragePooling2D\n"
   ]
  },
  {
   "cell_type": "code",
   "execution_count": 5,
   "id": "sporting-freeware",
   "metadata": {},
   "outputs": [],
   "source": [
    "datagen = ImageDataGenerator(rescale=1. / 255)"
   ]
  },
  {
   "cell_type": "code",
   "execution_count": 6,
   "id": "linear-latvia",
   "metadata": {
    "colab": {
     "base_uri": "https://localhost:8080/"
    },
    "id": "Gw1UYE2vItTu",
    "outputId": "4f1d51b9-f651-410b-8a1c-e649fe61f6b4"
   },
   "outputs": [
    {
     "name": "stdout",
     "output_type": "stream",
     "text": [
      "Found 3000 images belonging to 2 classes.\n"
     ]
    }
   ],
   "source": [
    "train_aug = datagen.flow_from_directory(\n",
    "    train_path,\n",
    "    target_size=(299, 299),\n",
    "    class_mode=None,  \n",
    "    shuffle=False\n",
    ")\n"
   ]
  },
  {
   "cell_type": "code",
   "execution_count": 7,
   "id": "colored-working",
   "metadata": {
    "id": "CT1h3iYuW4I2"
   },
   "outputs": [
    {
     "name": "stdout",
     "output_type": "stream",
     "text": [
      "Found 822 images belonging to 2 classes.\n"
     ]
    }
   ],
   "source": [
    "test_aug = datagen.flow_from_directory(\n",
    "    test_path,\n",
    "    target_size=(299, 299),\n",
    "    class_mode=None,  \n",
    "    shuffle=False\n",
    ")\n"
   ]
  },
  {
   "cell_type": "code",
   "execution_count": 8,
   "id": "rubber-safety",
   "metadata": {},
   "outputs": [
    {
     "name": "stdout",
     "output_type": "stream",
     "text": [
      "{'baby': 0, 'notbaby': 1}\n",
      "{'baby': 0, 'notbaby': 1}\n"
     ]
    }
   ],
   "source": [
    "print(train_aug.class_indices)\n",
    "print(test_aug.class_indices)\n"
   ]
  },
  {
   "cell_type": "code",
   "execution_count": 9,
   "id": "acoustic-government",
   "metadata": {
    "id": "GlvYiycvI1GS"
   },
   "outputs": [
    {
     "name": "stdout",
     "output_type": "stream",
     "text": [
      "Running Model: 3\n"
     ]
    }
   ],
   "source": [
    "if(run_model == 1):\n",
    "    conv_base = Xception(include_top=False, input_shape=(299, 299, 3))\n",
    "elif(run_model == 2):\n",
    "    conv_base = MobileNetV2(include_top=False, input_shape=(299, 299, 3))\n",
    "elif(run_model == 3):\n",
    "    conv_base = InceptionV3(include_top=False, input_shape=(299, 299, 3))\n",
    "elif(run_model == 4):\n",
    "    conv_base = ResNet50(include_top=False, input_shape=(299, 299, 3))\n",
    "elif(run_model == 5):\n",
    "    conv_base = VGG16(include_top=False, input_shape=(299, 299, 3))\n",
    "\n",
    "print(f'Running Model: {run_model}')"
   ]
  },
  {
   "cell_type": "code",
   "execution_count": 10,
   "id": "retired-validity",
   "metadata": {
    "id": "GlvYiycvI1GS"
   },
   "outputs": [],
   "source": [
    "X_train = conv_base.predict(train_aug)\n",
    "X_test = conv_base.predict(test_aug)\n"
   ]
  },
  {
   "cell_type": "code",
   "execution_count": 11,
   "id": "german-spanish",
   "metadata": {
    "id": "1_L30QU0YV8C"
   },
   "outputs": [],
   "source": [
    "y_train = train_aug.labels \n",
    "y_train_binarized = to_categorical(y_train)\n",
    "\n",
    "y_test = test_aug.labels\n",
    "y_test_binarized = to_categorical(y_test)"
   ]
  },
  {
   "cell_type": "code",
   "execution_count": 12,
   "id": "finite-program",
   "metadata": {
    "id": "xFk2sgK8I0y6"
   },
   "outputs": [],
   "source": [
    "model = Sequential()\n",
    "\n",
    "model.add(GlobalAveragePooling2D())\n",
    "\n",
    "model.add(Dense(50, activation = 'relu'))\n",
    "model.add(Dense(350, activation = 'relu'))\n",
    "model.add(Dense(150, activation = 'relu'))\n",
    "model.add(Dense(50, activation = 'relu'))\n",
    "\n",
    "model.add(Dense(2, activation='softmax'))\n",
    "model.compile(\n",
    "    loss='categorical_crossentropy', \n",
    "    optimizer='adam', \n",
    "    metrics=['accuracy', 'Precision', 'Recall']\n",
    ")\n"
   ]
  },
  {
   "cell_type": "code",
   "execution_count": 13,
   "id": "saved-christianity",
   "metadata": {
    "colab": {
     "base_uri": "https://localhost:8080/"
    },
    "id": "H9ZXJaqUJrX5",
    "outputId": "dd4add7d-5da0-4892-e4ef-44ca1995302a"
   },
   "outputs": [
    {
     "name": "stdout",
     "output_type": "stream",
     "text": [
      "Epoch 1/20\n",
      "94/94 [==============================] - 3s 19ms/step - loss: 0.2725 - accuracy: 0.8591 - precision: 0.8591 - recall: 0.8591 - val_loss: 0.0643 - val_accuracy: 0.9793 - val_precision: 0.9793 - val_recall: 0.9793\n",
      "Epoch 2/20\n",
      "94/94 [==============================] - 1s 6ms/step - loss: 0.0376 - accuracy: 0.9860 - precision: 0.9860 - recall: 0.9860 - val_loss: 0.1387 - val_accuracy: 0.9586 - val_precision: 0.9586 - val_recall: 0.9586\n",
      "Epoch 3/20\n",
      "94/94 [==============================] - 1s 7ms/step - loss: 0.0668 - accuracy: 0.9747 - precision: 0.9747 - recall: 0.9747 - val_loss: 0.1127 - val_accuracy: 0.9720 - val_precision: 0.9720 - val_recall: 0.9720\n",
      "Epoch 4/20\n",
      "94/94 [==============================] - 1s 7ms/step - loss: 0.0093 - accuracy: 0.9972 - precision: 0.9972 - recall: 0.9972 - val_loss: 0.2170 - val_accuracy: 0.9477 - val_precision: 0.9477 - val_recall: 0.9477\n",
      "Epoch 5/20\n",
      "94/94 [==============================] - 1s 7ms/step - loss: 0.0461 - accuracy: 0.9849 - precision: 0.9849 - recall: 0.9849 - val_loss: 0.0709 - val_accuracy: 0.9854 - val_precision: 0.9854 - val_recall: 0.9854\n",
      "Epoch 6/20\n",
      "94/94 [==============================] - 1s 7ms/step - loss: 0.0257 - accuracy: 0.9880 - precision: 0.9880 - recall: 0.9880 - val_loss: 0.0723 - val_accuracy: 0.9805 - val_precision: 0.9805 - val_recall: 0.9805\n",
      "Model Ran: 3\n"
     ]
    }
   ],
   "source": [
    "callback = EarlyStopping(patience=5)\n",
    "\n",
    "history = model.fit(\n",
    "    X_train, \n",
    "    y_train_binarized, \n",
    "    epochs = 20,\n",
    "    validation_data=(X_test, y_test_binarized),\n",
    "    callbacks=[callback],\n",
    "    verbose=1\n",
    ")\n",
    "\n",
    "print(f'Model Ran: {run_model}')"
   ]
  },
  {
   "cell_type": "code",
   "execution_count": 14,
   "id": "invalid-humanitarian",
   "metadata": {
    "id": "kpTcM10-JrNA"
   },
   "outputs": [
    {
     "name": "stdout",
     "output_type": "stream",
     "text": [
      "Model Ran: 3\n"
     ]
    }
   ],
   "source": [
    "print(f'Model Ran: {run_model}')"
   ]
  },
  {
   "cell_type": "code",
   "execution_count": null,
   "id": "sufficient-relative",
   "metadata": {},
   "outputs": [],
   "source": []
  },
  {
   "cell_type": "code",
   "execution_count": 15,
   "id": "fabulous-michigan",
   "metadata": {},
   "outputs": [],
   "source": [
    "if not os.path.exists('../models'):\n",
    "    os.mkdir('../models')\n",
    "save_path = f'../models/toddler_tracker_model_{run_model}.h5'"
   ]
  },
  {
   "cell_type": "code",
   "execution_count": 16,
   "id": "chicken-elder",
   "metadata": {
    "id": "Q9vsjhRzJrBZ"
   },
   "outputs": [],
   "source": [
    "# model.save(save_path)\n",
    "# print(f'File saved to: {save_path}')"
   ]
  },
  {
   "cell_type": "code",
   "execution_count": null,
   "id": "recorded-north",
   "metadata": {
    "id": "1sx0cwIvJq1J"
   },
   "outputs": [],
   "source": []
  },
  {
   "cell_type": "code",
   "execution_count": 17,
   "id": "rational-suffering",
   "metadata": {},
   "outputs": [
    {
     "data": {
      "text/html": [
       "\n",
       "                <audio  controls=\"controls\" autoplay=\"autoplay\">\n",
       "                    <source src=\"data:audio/wav;base64,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\" type=\"audio/wav\" />\n",
       "                    Your browser does not support the audio element.\n",
       "                </audio>\n",
       "              "
      ],
      "text/plain": [
       "<IPython.lib.display.Audio object>"
      ]
     },
     "execution_count": 17,
     "metadata": {},
     "output_type": "execute_result"
    }
   ],
   "source": [
    "# from IPython.lib.display import Audio\n",
    "# import numpy as np\n",
    "\n",
    "# framerate = 4410\n",
    "# play_time_seconds = 2\n",
    "\n",
    "# t = np.linspace(0, play_time_seconds, framerate*play_time_seconds)\n",
    "# audio_data = np.sin(2*np.pi*110*t)# + np.sin(2*np.pi*78*t)\n",
    "# Audio(audio_data, rate=framerate, autoplay=True)"
   ]
  },
  {
   "cell_type": "code",
   "execution_count": null,
   "id": "alleged-safety",
   "metadata": {},
   "outputs": [],
   "source": []
  },
  {
   "cell_type": "markdown",
   "id": "common-inspector",
   "metadata": {
    "id": "5thTfFQbJqpJ"
   },
   "source": [
    "# RESULTS"
   ]
  },
  {
   "cell_type": "markdown",
   "id": "funded-thing",
   "metadata": {
    "id": "5thTfFQbJqpJ"
   },
   "source": [
    "<!--\n",
    "## 0. None\n",
    "### val_accuracy: 0.5000 - val_precision: 0.5000 - val_recall: 0.5000\n",
    "<details><summary>Epoch 1/20</summary>\n",
    "\n",
    "\n",
    "</details>\n",
    "\n",
    "`Epoch`\n",
    "\n",
    "`9494`\n",
    "\n",
    "| Type     | With | Without |\n",
    "| -------- |:----:|:-------:|\n",
    "| Callback |  5   |         |\n",
    "| Dropout  | 0.2  |         |\n",
    "| l2       | 0.1  |         |\n",
    "-_>"
   ]
  },
  {
   "cell_type": "markdown",
   "id": "satisfied-plant",
   "metadata": {
    "id": "5thTfFQbJqpJ"
   },
   "source": [
    "## 1. Xception\n",
    "### val_accuracy: 0.9611 - val_precision: 0.9611 - val_recall: 0.9611\n",
    "<details><summary>Epoch 1/20</summary>\n",
    "\n",
    "`94/94 [==============================] - 3s 23ms/step - loss: 0.2476 - accuracy: 0.8995 - precision: 0.8995 - recall: 0.8995 - val_loss: 0.0338 - val_accuracy: 0.9878 - val_precision: 0.9878 - val_recall: 0.9878`\n",
    "\n",
    "`Epoch 2/20`\n",
    "\n",
    "`94/94 [==============================] - 1s 10ms/step - loss: 0.0217 - accuracy: 0.9914 - precision: 0.9914 - recall: 0.9914 - val_loss: 0.0293 - val_accuracy: 0.9903 - val_precision: 0.9903 - val_recall: 0.9903`\n",
    "\n",
    "`Epoch 3/20`\n",
    "\n",
    "`94/94 [==============================] - 1s 10ms/step - loss: 0.0150 - accuracy: 0.9948 - precision: 0.9948 - recall: 0.9948 - val_loss: 0.0382 - val_accuracy: 0.9854 - val_precision: 0.9854 - val_recall: 0.9854`\n",
    "\n",
    "`Epoch 4/20`\n",
    "\n",
    "`94/94 [==============================] - 1s 10ms/step - loss: 0.0070 - accuracy: 0.9964 - precision: 0.9964 - recall: 0.9964 - val_loss: 0.2745 - val_accuracy: 0.9489 - val_precision: 0.9489 - val_recall: 0.9489`\n",
    "\n",
    "`Epoch 5/20`\n",
    "\n",
    "`94/94 [==============================] - 1s 10ms/step - loss: 0.0160 - accuracy: 0.9945 - precision: 0.9945 - recall: 0.9945 - val_loss: 0.0762 - val_accuracy: 0.9830 - val_precision: 0.9830 - val_recall: 0.9830`\n",
    "\n",
    "`Epoch 6/20`\n",
    "\n",
    "`94/94 [==============================] - 1s 10ms/step - loss: 0.0033 - accuracy: 0.9990 - precision: 0.9990 - recall: 0.9990 - val_loss: 0.1230 - val_accuracy: 0.9793 - val_precision: 0.9793 - val_recall: 0.9793`\n",
    "\n",
    "\n",
    "</details>\n",
    "\n",
    "`Epoch 7/20`\n",
    "\n",
    "`94/94 [==============================] - 1s 11ms/step - loss: 0.0011 - accuracy: 0.9998 - precision: 0.9998 - recall: 0.9998 - val_loss: 0.2759 - val_accuracy: 0.9611 - val_precision: 0.9611 - val_recall: 0.9611`\n",
    "\n"
   ]
  },
  {
   "cell_type": "markdown",
   "id": "animal-detail",
   "metadata": {
    "id": "5thTfFQbJqpJ"
   },
   "source": [
    "## 2. MobileNetV2\n",
    "### val_accuracy: 0.9878 - val_precision: 0.9878 - val_recall: 0.9878\n",
    "<details><summary>Epoch 1/20</summary>\n",
    "\n",
    "`94/94 [==============================] - 3s 20ms/step - loss: 0.2429 - accuracy: 0.9008 - precision: 0.9008 - recall: 0.9008 - val_loss: 0.0418 - val_accuracy: 0.9878 - val_precision: 0.9878 - val_recall: 0.9878`\n",
    "\n",
    "`Epoch 2/20`\n",
    "\n",
    "`94/94 [==============================] - 1s 7ms/step - loss: 0.0267 - accuracy: 0.9913 - precision: 0.9913 - recall: 0.9913 - val_loss: 0.1128 - val_accuracy: 0.9659 - val_precision: 0.9659 - val_recall: 0.9659`\n",
    "\n",
    "`Epoch 3/20`\n",
    "\n",
    "`94/94 [==============================] - 1s 7ms/step - loss: 0.0138 - accuracy: 0.9956 - precision: 0.9956 - recall: 0.9956 - val_loss: 0.0426 - val_accuracy: 0.9878 - val_precision: 0.9878 - val_recall: 0.9878`\n",
    "\n",
    "`Epoch 4/20`\n",
    "\n",
    "`94/94 [==============================] - 1s 7ms/step - loss: 0.0060 - accuracy: 0.9987 - precision: 0.9987 - recall: 0.9987 - val_loss: 0.0442 - val_accuracy: 0.9830 - val_precision: 0.9830 - val_recall: 0.9830`\n",
    "\n",
    "`Epoch 5/20`\n",
    "\n",
    "`94/94 [==============================] - 1s 7ms/step - loss: 0.0171 - accuracy: 0.9951 - precision: 0.9951 - recall: 0.9951 - val_loss: 0.1015 - val_accuracy: 0.9769 - val_precision: 0.9769 - val_recall: 0.9769`\n",
    "\n",
    "</details>\n",
    "\n",
    "`Epoch 6/20`\n",
    "\n",
    "`94/94 [==============================] - 1s 7ms/step - loss: 9.8219e-04 - accuracy: 0.9999 - precision: 0.9999 - recall: 0.9999 - val_loss: 0.0699 - val_accuracy: 0.9878 - val_precision: 0.9878 - val_recall: 0.9878`\n"
   ]
  },
  {
   "cell_type": "markdown",
   "id": "respective-limitation",
   "metadata": {
    "id": "5thTfFQbJqpJ"
   },
   "source": [
    "## 3. InceptionV3\n",
    "### val_accuracy: 0.9854 - val_precision: 0.9854 - val_recall: 0.9854\n",
    "<details><summary>Epoch 1/20</summary>\n",
    "\n",
    "`94/94 [==============================] - 3s 21ms/step - loss: 0.3015 - accuracy: 0.8544 - precision: 0.8544 - recall: 0.8544 - val_loss: 0.0726 - val_accuracy: 0.9720 - val_precision: 0.9720 - val_recall: 0.9720`\n",
    "\n",
    "`Epoch 2/20`\n",
    "\n",
    "`94/94 [==============================] - 1s 7ms/step - loss: 0.0393 - accuracy: 0.9875 - precision: 0.9875 - recall: 0.9875 - val_loss: 0.1417 - val_accuracy: 0.9562 - val_precision: 0.9562 - val_recall: 0.9562`\n",
    "\n",
    "`Epoch 3/20`\n",
    "\n",
    "`94/94 [==============================] - 1s 7ms/step - loss: 0.0364 - accuracy: 0.9871 - precision: 0.9871 - recall: 0.9871 - val_loss: 0.0466 - val_accuracy: 0.9866 - val_precision: 0.9866 - val_recall: 0.9866`\n",
    "\n",
    "`Epoch 4/20`\n",
    "\n",
    "`94/94 [==============================] - 1s 8ms/step - loss: 0.0222 - accuracy: 0.9892 - precision: 0.9892 - recall: 0.9892 - val_loss: 0.1109 - val_accuracy: 0.9732 - val_precision: 0.9732 - val_recall: 0.9732`\n",
    "\n",
    "`Epoch 5/20`\n",
    "\n",
    "`94/94 [==============================] - 1s 7ms/step - loss: 0.0184 - accuracy: 0.9928 - precision: 0.9928 - recall: 0.9928 - val_loss: 0.0605 - val_accuracy: 0.9781 - val_precision: 0.9781 - val_recall: 0.9781`\n",
    "\n",
    "`Epoch 6/20`\n",
    "\n",
    "`94/94 [==============================] - 1s 7ms/step - loss: 0.0095 - accuracy: 0.9969 - precision: 0.9969 - recall: 0.9969 - val_loss: 0.1921 - val_accuracy: 0.9513 - val_precision: 0.9513 - val_recall: 0.9513`\n",
    "\n",
    "`Epoch 7/20`\n",
    "\n",
    "`94/94 [==============================] - 1s 8ms/step - loss: 0.0246 - accuracy: 0.9905 - precision: 0.9905 - recall: 0.9905 - val_loss: 0.1109 - val_accuracy: 0.9781 - val_precision: 0.9781 - val_recall: 0.9781`\n",
    "\n",
    "</details>\n",
    "\n",
    "`Epoch 8/20`\n",
    "\n",
    "`94/94 [==============================] - 1s 7ms/step - loss: 0.0072 - accuracy: 0.9965 - precision: 0.9965 - recall: 0.9965 - val_loss: 0.0989 - val_accuracy: 0.9854 - val_precision: 0.9854 - val_recall: 0.9854`\n",
    "\n"
   ]
  },
  {
   "cell_type": "markdown",
   "id": "spoken-space",
   "metadata": {
    "id": "5thTfFQbJqpJ"
   },
   "source": [
    "## 4. ResNet50\n",
    "### val_accuracy: 0.7676 - val_precision: 0.7676 - val_recall: 0.7676\n",
    "<details><summary>Epoch 1/20</summary>\n",
    "\n",
    "`94/94 [==============================] - 4s 27ms/step - loss: 0.6804 - accuracy: 0.5532 - precision: 0.5532 - recall: 0.5532 - val_loss: 0.6193 - val_accuracy: 0.6679 - val_precision: 0.6679 - val_recall: 0.6679`\n",
    "\n",
    "`Epoch 2/20`\n",
    "\n",
    "`94/94 [==============================] - 1s 11ms/step - loss: 0.6182 - accuracy: 0.6418 - precision: 0.6418 - recall: 0.6418 - val_loss: 0.5544 - val_accuracy: 0.7056 - val_precision: 0.7056 - val_recall: 0.7056`\n",
    "\n",
    "`Epoch 3/20`\n",
    "\n",
    "`94/94 [==============================] - 1s 11ms/step - loss: 0.5594 - accuracy: 0.7160 - precision: 0.7160 - recall: 0.7160 - val_loss: 0.5245 - val_accuracy: 0.7482 - val_precision: 0.7482 - val_recall: 0.7482`\n",
    "\n",
    "`Epoch 4/20`\n",
    "\n",
    "`94/94 [==============================] - 1s 11ms/step - loss: 0.5086 - accuracy: 0.7562 - precision: 0.7562 - recall: 0.7562 - val_loss: 0.8030 - val_accuracy: 0.5803 - val_precision: 0.5803 - val_recall: 0.5803`\n",
    "\n",
    "`Epoch 5/20`\n",
    "\n",
    "`94/94 [==============================] - 1s 11ms/step - loss: 0.4777 - accuracy: 0.7917 - precision: 0.7917 - recall: 0.7917 - val_loss: 0.5800 - val_accuracy: 0.7336 - val_precision: 0.7336 - val_recall: 0.7336`\n",
    "\n",
    "`Epoch 6/20`\n",
    "\n",
    "`94/94 [==============================] - 1s 11ms/step - loss: 0.4898 - accuracy: 0.7755 - precision: 0.7755 - recall: 0.7755 - val_loss: 0.4972 - val_accuracy: 0.7506 - val_precision: 0.7506 - val_recall: 0.7506`\n",
    "\n",
    "`Epoch 7/20`\n",
    "\n",
    "`94/94 [==============================] - 1s 11ms/step - loss: 0.4981 - accuracy: 0.7568 - precision: 0.7568 - recall: 0.7568 - val_loss: 0.6202 - val_accuracy: 0.6496 - val_precision: 0.6496 - val_recall: 0.6496`\n",
    "\n",
    "`Epoch 8/20`\n",
    "\n",
    "`94/94 [==============================] - 1s 12ms/step - loss: 0.4701 - accuracy: 0.7901 - precision: 0.7901 - recall: 0.7901 - val_loss: 0.5036 - val_accuracy: 0.7628 - val_precision: 0.7628 - val_recall: 0.7628`\n",
    "\n",
    "`Epoch 9/20`\n",
    "\n",
    "`94/94 [==============================] - 1s 11ms/step - loss: 0.4610 - accuracy: 0.7827 - precision: 0.7827 - recall: 0.7827 - val_loss: 0.5983 - val_accuracy: 0.7019 - val_precision: 0.7019 - val_recall: 0.7019`\n",
    "\n",
    "`Epoch 10/20`\n",
    "\n",
    "`94/94 [==============================] - 1s 10ms/step - loss: 0.4502 - accuracy: 0.7924 - precision: 0.7924 - recall: 0.7924 - val_loss: 0.5182 - val_accuracy: 0.7470 - val_precision: 0.7470 - val_recall: 0.7470`\n",
    "\n",
    "`Epoch 11/20`\n",
    "\n",
    "`94/94 [==============================] - 1s 10ms/step - loss: 0.4580 - accuracy: 0.7870 - precision: 0.7870 - recall: 0.7870 - val_loss: 0.4923 - val_accuracy: 0.7628 - val_precision: 0.7628 - val_recall: 0.7628`\n",
    "\n",
    "`Epoch 12/20`\n",
    "\n",
    "`94/94 [==============================] - 1s 11ms/step - loss: 0.4664 - accuracy: 0.7868 - precision: 0.7868 - recall: 0.7868 - val_loss: 0.7019 - val_accuracy: 0.5973 - val_precision: 0.5973 - val_recall: 0.5973`\n",
    "\n",
    "`Epoch 13/20`\n",
    "\n",
    "`94/94 [==============================] - 1s 10ms/step - loss: 0.4421 - accuracy: 0.7956 - precision: 0.7956 - recall: 0.7956 - val_loss: 0.5109 - val_accuracy: 0.7652 - val_precision: 0.7652 - val_recall: 0.7652`\n",
    "\n",
    "`Epoch 14/20`\n",
    "\n",
    "`94/94 [==============================] - 1s 10ms/step - loss: 0.4153 - accuracy: 0.8196 - precision: 0.8196 - recall: 0.8196 - val_loss: 0.5497 - val_accuracy: 0.7433 - val_precision: 0.7433 - val_recall: 0.7433`\n",
    "\n",
    "`Epoch 15/20`\n",
    "\n",
    "`94/94 [==============================] - 1s 10ms/step - loss: 0.4656 - accuracy: 0.7892 - precision: 0.7892 - recall: 0.7892 - val_loss: 0.4800 - val_accuracy: 0.7676 - val_precision: 0.7676 - val_recall: 0.7676`\n",
    "\n",
    "`Epoch 16/20`\n",
    "\n",
    "`94/94 [==============================] - 1s 10ms/step - loss: 0.4006 - accuracy: 0.8237 - precision: 0.8237 - recall: 0.8237 - val_loss: 0.6150 - val_accuracy: 0.6813 - val_precision: 0.6813 - val_recall: 0.6813`\n",
    "\n",
    "`Epoch 17/20`\n",
    "\n",
    "`94/94 [==============================] - 1s 10ms/step - loss: 0.4215 - accuracy: 0.8001 - precision: 0.8001 - recall: 0.8001 - val_loss: 0.5112 - val_accuracy: 0.7713 - val_precision: 0.7713 - val_recall: 0.7713`\n",
    "\n",
    "`Epoch 18/20`\n",
    "\n",
    "`94/94 [==============================] - 1s 10ms/step - loss: 0.4182 - accuracy: 0.8119 - precision: 0.8119 - recall: 0.8119 - val_loss: 0.6377 - val_accuracy: 0.6776 - val_precision: 0.6776 - val_recall: 0.6776`\n",
    "\n",
    "`Epoch 19/20`\n",
    "\n",
    "`94/94 [==============================] - 1s 10ms/step - loss: 0.4042 - accuracy: 0.8143 - precision: 0.8143 - recall: 0.8143 - val_loss: 0.5822 - val_accuracy: 0.7068 - val_precision: 0.7068 - val_recall: 0.7068`\n",
    "\n",
    "\n",
    "</details>\n",
    "\n",
    "`Epoch 20/20`\n",
    "\n",
    "`94/94 [==============================] - 1s 10ms/step - loss: 0.4088 - accuracy: 0.8087 - precision: 0.8087 - recall: 0.8087 - val_loss: 0.4906 - val_accuracy: 0.7676 - val_precision: 0.7676 - val_recall: 0.7676`\n"
   ]
  },
  {
   "cell_type": "markdown",
   "id": "general-paraguay",
   "metadata": {
    "id": "5thTfFQbJqpJ"
   },
   "source": [
    "## 5. VGG16\n",
    "### val_accuracy: 0.9465 - val_precision: 0.9465 - val_recall: 0.9465\n",
    "<details><summary>Epoch 1/20</summary>\n",
    "\n",
    "`94/94 [==============================] - 2s 17ms/step - loss: 0.5195 - accuracy: 0.7519 - precision: 0.7519 - recall: 0.7519 - val_loss: 0.3377 - val_accuracy: 0.8613 - val_precision: 0.8613 - val_recall: 0.8613`\n",
    "\n",
    "`Epoch 2/20`\n",
    "\n",
    "`94/94 [==============================] - 0s 3ms/step - loss: 0.2555 - accuracy: 0.8957 - precision: 0.8957 - recall: 0.8957 - val_loss: 0.3324 - val_accuracy: 0.8564 - val_precision: 0.8564 - val_recall: 0.8564`\n",
    "\n",
    "`Epoch 3/20`\n",
    "\n",
    "`94/94 [==============================] - 0s 4ms/step - loss: 0.2026 - accuracy: 0.9172 - precision: 0.9172 - recall: 0.9172 - val_loss: 0.3236 - val_accuracy: 0.8650 - val_precision: 0.8650 - val_recall: 0.8650`\n",
    "\n",
    "`Epoch 4/20`\n",
    "\n",
    "`94/94 [==============================] - 0s 4ms/step - loss: 0.2122 - accuracy: 0.9182 - precision: 0.9182 - recall: 0.9182 - val_loss: 0.2106 - val_accuracy: 0.9173 - val_precision: 0.9173 - val_recall: 0.9173`\n",
    "\n",
    "`Epoch 5/20`\n",
    "\n",
    "`94/94 [==============================] - 0s 3ms/step - loss: 0.1416 - accuracy: 0.9471 - precision: 0.9471 - recall: 0.9471 - val_loss: 0.2632 - val_accuracy: 0.9002 - val_precision: 0.9002 - val_recall: 0.9002`\n",
    "\n",
    "`Epoch 6/20`\n",
    "\n",
    "`94/94 [==============================] - 0s 3ms/step - loss: 0.1491 - accuracy: 0.9404 - precision: 0.9404 - recall: 0.9404 - val_loss: 0.2497 - val_accuracy: 0.9100 - val_precision: 0.9100 - val_recall: 0.9100`\n",
    "\n",
    "`Epoch 7/20`\n",
    "\n",
    "`94/94 [==============================] - 0s 3ms/step - loss: 0.1552 - accuracy: 0.9361 - precision: 0.9361 - recall: 0.9361 - val_loss: 0.2326 - val_accuracy: 0.9088 - val_precision: 0.9088 - val_recall: 0.9088`\n",
    "\n",
    "`Epoch 8/20`\n",
    "\n",
    "`94/94 [==============================] - 0s 3ms/step - loss: 0.0985 - accuracy: 0.9612 - precision: 0.9612 - recall: 0.9612 - val_loss: 0.2097 - val_accuracy: 0.9185 - val_precision: 0.9185 - val_recall: 0.9185`\n",
    "\n",
    "`Epoch 9/20`\n",
    "\n",
    "`94/94 [==============================] - 0s 3ms/step - loss: 0.0738 - accuracy: 0.9724 - precision: 0.9724 - recall: 0.9724 - val_loss: 0.1711 - val_accuracy: 0.9294 - val_precision: 0.9294 - val_recall: 0.9294`\n",
    "\n",
    "`Epoch 10/20`\n",
    "\n",
    "`94/94 [==============================] - 0s 3ms/step - loss: 0.0819 - accuracy: 0.9707 - precision: 0.9707 - recall: 0.9707 - val_loss: 0.1413 - val_accuracy: 0.9501 - val_precision: 0.9501 - val_recall: 0.9501`\n",
    "\n",
    "`Epoch 11/20`\n",
    "\n",
    "`94/94 [==============================] - 0s 4ms/step - loss: 0.0669 - accuracy: 0.9722 - precision: 0.9722 - recall: 0.9722 - val_loss: 0.2050 - val_accuracy: 0.9197 - val_precision: 0.9197 - val_recall: 0.9197`\n",
    "\n",
    "`Epoch 12/20`\n",
    "\n",
    "`94/94 [==============================] - 0s 3ms/step - loss: 0.0513 - accuracy: 0.9840 - precision: 0.9840 - recall: 0.9840 - val_loss: 0.1565 - val_accuracy: 0.9477 - val_precision: 0.9477 - val_recall: 0.9477`\n",
    "\n",
    "`Epoch 13/20`\n",
    "\n",
    "`94/94 [==============================] - 0s 4ms/step - loss: 0.0438 - accuracy: 0.9826 - precision: 0.9826 - recall: 0.9826 - val_loss: 0.1922 - val_accuracy: 0.9380 - val_precision: 0.9380 - val_recall: 0.9380`\n",
    "\n",
    "`Epoch 14/20`\n",
    "\n",
    "`94/94 [==============================] - 0s 3ms/step - loss: 0.0660 - accuracy: 0.9784 - precision: 0.9784 - recall: 0.9784 - val_loss: 0.1975 - val_accuracy: 0.9343 - val_precision: 0.9343 - val_recall: 0.9343`\n",
    "\n",
    "</details>\n",
    "\n",
    "`Epoch 15/20`\n",
    "\n",
    "`94/94 [==============================] - 0s 4ms/step - loss: 0.0570 - accuracy: 0.9806 - precision: 0.9806 - recall: 0.9806 - val_loss: 0.1454 - val_accuracy: 0.9465 - val_precision: 0.9465 - val_recall: 0.9465`\n"
   ]
  },
  {
   "cell_type": "code",
   "execution_count": null,
   "id": "atomic-treasurer",
   "metadata": {
    "id": "iO0kaWetIuhJ"
   },
   "outputs": [],
   "source": []
  }
 ],
 "metadata": {
  "colab": {
   "collapsed_sections": [],
   "name": "hotdog_not-hotdog.ipynb",
   "provenance": [],
   "toc_visible": true
  },
  "kernelspec": {
   "display_name": "Python 3",
   "language": "python",
   "name": "python3"
  },
  "language_info": {
   "codemirror_mode": {
    "name": "ipython",
    "version": 3
   },
   "file_extension": ".py",
   "mimetype": "text/x-python",
   "name": "python",
   "nbconvert_exporter": "python",
   "pygments_lexer": "ipython3",
   "version": "3.8.5"
  }
 },
 "nbformat": 4,
 "nbformat_minor": 5
}
