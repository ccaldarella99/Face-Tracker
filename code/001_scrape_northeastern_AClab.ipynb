{
 "cells": [
  {
   "cell_type": "markdown",
   "id": "disabled-insight",
   "metadata": {},
   "source": [
    "# 001"
   ]
  },
  {
   "cell_type": "markdown",
   "id": "protecting-avatar",
   "metadata": {},
   "source": [
    "### Scrape here:\n",
    "\n",
    "https://coe.northeastern.edu/Research/AClab/SyRIP/images/train_infant/\n",
    " - __*First Image:*__ `train00001.jpg`\n",
    " \n",
    " - __*Middle end:*__ `train00500.jpg`\n",
    " - __*Middle begin:*__ `train10000.jpg`\n",
    " \n",
    " - __*Last Image:*__ `train10999.jpg`\n",
    "\n",
    "https://coe.northeastern.edu/Research/AClab/SyRIP/images/validate_infant/\n",
    " - __*First Image:*__ `test0.jpg`\n",
    " - __*Last Image:*__ `test499.jpg`\n"
   ]
  },
  {
   "cell_type": "code",
   "execution_count": 1,
   "id": "rubber-playback",
   "metadata": {},
   "outputs": [],
   "source": [
    "import requests\n",
    "import urllib\n",
    "import time\n",
    "import os"
   ]
  },
  {
   "cell_type": "code",
   "execution_count": 2,
   "id": "satisfactory-realtor",
   "metadata": {},
   "outputs": [],
   "source": [
    "# URLS\n",
    "\n",
    "# TRAIN URL\n",
    "train_url = 'https://coe.northeastern.edu/Research/AClab/SyRIP/images/train_infant/'\n",
    "\n",
    "# VALIDATE URL\n",
    "validate_url = 'https://coe.northeastern.edu/Research/AClab/SyRIP/images/validate_infant/'"
   ]
  },
  {
   "cell_type": "code",
   "execution_count": 3,
   "id": "enormous-elimination",
   "metadata": {},
   "outputs": [],
   "source": [
    "# SAVE DIRECTORIES\n",
    "images = '../images/ne_aclab/'\n",
    "train_dir = images + 'train/'\n",
    "validate_dir = images + 'validate/'\n"
   ]
  },
  {
   "cell_type": "code",
   "execution_count": 4,
   "id": "current-strip",
   "metadata": {},
   "outputs": [
    {
     "name": "stdout",
     "output_type": "stream",
     "text": [
      "https://coe.northeastern.edu/Research/AClab/SyRIP/images/validate_infant/test499.jpg\r"
     ]
    }
   ],
   "source": [
    "# VALIDATE: 0 - 499\n",
    "\n",
    "for val in range(0, 500):\n",
    "    file = f'test{val}.jpg'\n",
    "    url = validate_url + file\n",
    "    if(not os.path.exists(validate_dir + file)):\n",
    "        try:\n",
    "            x, y = urllib.request.urlretrieve(url, file)\n",
    "            os.rename(file, validate_dir + file)\n",
    "            print(f'{url}', end='\\r')\n",
    "        except:\n",
    "            print(f'ERROR:\\n{url}\\n')\n",
    "        time.sleep(1)#5)"
   ]
  },
  {
   "cell_type": "code",
   "execution_count": 5,
   "id": "tropical-renewal",
   "metadata": {
    "tags": []
   },
   "outputs": [
    {
     "name": "stdout",
     "output_type": "stream",
     "text": [
      "https://coe.northeastern.edu/Research/AClab/SyRIP/images/train_infant/train10999.jpg\r"
     ]
    }
   ],
   "source": [
    "# TRAIN: 00001 - 00500\n",
    "\n",
    "for trn in range(1,501):\n",
    "    file = f'train{trn:05d}.jpg'\n",
    "    url = train_url + file\n",
    "    if(not os.path.exists(train_dir + file)):\n",
    "        try:\n",
    "            x, y = urllib.request.urlretrieve(url, file)\n",
    "            os.rename(file, train_dir + file)\n",
    "            print(f'{url}', end='\\r')\n",
    "        except:\n",
    "            print(f'ERROR:\\n{url}\\n')\n",
    "        time.sleep(5)\n",
    "\n",
    "# TRAIN: 00001 - 10999\n",
    "\n",
    "for trn in range(10000,11000):\n",
    "    file = f'train{trn:05d}.jpg'\n",
    "    url = train_url + file\n",
    "    if(not os.path.exists(train_dir + file)):\n",
    "        try:\n",
    "            x, y = urllib.request.urlretrieve(url, file)\n",
    "            os.rename(file, train_dir + file)\n",
    "            print(f'{url}', end='\\r')\n",
    "        except:\n",
    "            print(f'ERROR:\\n{url}\\n')\n",
    "        time.sleep(5)"
   ]
  },
  {
   "cell_type": "code",
   "execution_count": null,
   "id": "chinese-science",
   "metadata": {},
   "outputs": [],
   "source": []
  },
  {
   "cell_type": "code",
   "execution_count": 6,
   "id": "native-hearing",
   "metadata": {},
   "outputs": [],
   "source": [
    "# if(not os.path.exists(validate_dir + 'test498.jpg')):\n",
    "#     print('nope: test498')\n",
    "# else:\n",
    "#     print('yay: test498')\n",
    "# if(not os.path.exists(validate_dir + 'test499.jpg')):\n",
    "#     print('nope:test499')\n",
    "# else:\n",
    "#     print('yay: test499')\n",
    "\n",
    "# if(not os.path.exists(train_dir + 'train00500.jpg')):\n",
    "#     print('nope: 00500')\n",
    "# else:\n",
    "#     print('yay: 05000')\n",
    "# if(not os.path.exists(train_dir + 'train00501.jpg')):\n",
    "#     print('nope:00501')\n",
    "# else:\n",
    "#     print('yay: 00501')\n"
   ]
  },
  {
   "cell_type": "code",
   "execution_count": 7,
   "id": "satellite-pantyhose",
   "metadata": {},
   "outputs": [
    {
     "name": "stdout",
     "output_type": "stream",
     "text": [
      "Done.\n"
     ]
    }
   ],
   "source": [
    "print(\"Done.\")"
   ]
  },
  {
   "cell_type": "code",
   "execution_count": null,
   "id": "distinguished-carrier",
   "metadata": {},
   "outputs": [],
   "source": []
  }
 ],
 "metadata": {
  "kernelspec": {
   "display_name": "Python 3",
   "language": "python",
   "name": "python3"
  },
  "language_info": {
   "codemirror_mode": {
    "name": "ipython",
    "version": 3
   },
   "file_extension": ".py",
   "mimetype": "text/x-python",
   "name": "python",
   "nbconvert_exporter": "python",
   "pygments_lexer": "ipython3",
   "version": "3.8.5"
  }
 },
 "nbformat": 4,
 "nbformat_minor": 5
}
